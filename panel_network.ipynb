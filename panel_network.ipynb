{
 "cells": [
  {
   "cell_type": "code",
   "execution_count": 306,
   "id": "30362e9c-0da6-4423-80bb-17b26839860e",
   "metadata": {},
   "outputs": [],
   "source": [
    "\n",
    "import numpy as np\n",
    "import pandas as pd\n",
    "import networkx as nx\n",
    "import pickle\n",
    "\n",
    "df_nodes = pd.read_csv(\"/Users/garci061/Downloads/proximity.csv/nodes.csv\")\n",
    "df_nodes[\"program\"] = df_nodes[\" class\"].str[:2]\n",
    "df_edges1 = pd.read_csv(\"/Users/garci061/Downloads/proximity.csv/edges.csv\")\n",
    "df_edges2 = pd.read_csv(\"/Users/garci061/Downloads/diaries.csv/edges.csv\")\n",
    "df_edges3 = pd.read_csv(\"/Users/garci061/Downloads/survey.csv/edges.csv\")\n",
    "df_edges4 = pd.read_csv(\"/Users/garci061/Downloads/facebook.csv/edges.csv\")\n",
    "df_edges = pd.concat([df_edges1, df_edges2, df_edges3, df_edges4])\n",
    "G_all = nx.from_pandas_edgelist(df_edges, source = \"# source\", target=\" target\")\n",
    "pos = nx.spring_layout(G_all, seed = 1, scale=1)\n",
    "\n",
    "for path in [\"proximity\", \"diaries\", \"survey\", \"facebook\"]:\n",
    "    df_edges = pd.read_csv(f\"/Users/garci061/Downloads/{path}.csv/edges.csv\")\n",
    "    G = nx.from_pandas_edgelist(df_edges, source = \"# source\", target=\" target\")\n",
    "    nx.set_node_attributes(G, df_nodes.set_index(\"# index\").to_dict()[\" class\"], \"Classroom\")\n",
    "    nx.set_node_attributes(G, df_nodes.set_index(\"# index\").to_dict()[\"program\"], \"Program\")\n",
    "    nx.set_node_attributes(G, df_nodes.set_index(\"# index\").to_dict()[\" gender\"], \"Gender\")\n",
    "    nx.write_graphml(G, data/f\"{path}.graphml\")\n",
    "    \n",
    "pickle.dump(pos, open(\"data/positions_nodes.pkl\", \"wb+\"))"
   ]
  },
  {
   "cell_type": "code",
   "execution_count": 307,
   "id": "47458cda-73b2-4f49-97b5-6938985b8463",
   "metadata": {},
   "outputs": [],
   "source": [
    "import networkx as nx\n",
    "import pandas as pd\n",
    "import hvplot.networkx as hvnx\n",
    "import panel as pn\n",
    "import pylab as plt\n",
    "from holoviews import opts\n",
    "from holoviews.element.graphs import layout_nodes\n",
    "import matplotlib as mpl\n",
    "\n",
    "import numpy as np\n",
    "import pandas as pd\n",
    "import networkx as nx\n",
    "import pickle\n",
    "\n",
    "# Sample network file paths (you can replace these with your actual file paths)\n",
    "network_files = {\n",
    "    'Proximity': 'proximity.graphml',\n",
    "    'Survey': 'survey.graphml',\n",
    "    'Facebook': 'facebook.graphml',\n",
    "    'Diaries': 'diaries.graphml'\n",
    "}\n",
    "\n",
    "\n",
    "def load_network(file_path):\n",
    "    # Load network data from file\n",
    "    return nx.read_graphml(path)\n",
    "\n",
    "def compute_centrality_measures(G, measure):\n",
    "    # Calculate centrality measures\n",
    "    measures = {\n",
    "        'Degree': nx.degree_centrality,\n",
    "        'Betweenness': nx.betweenness_centrality,\n",
    "        'Closeness': nx.closeness_centrality,\n",
    "        'PageRank': nx.pagerank,\n",
    "        'Eigenvector': nx.eigenvector_centrality,\n",
    "        # Add more centrality measures as needed\n",
    "    }\n",
    "    return measures[measure](G)\n",
    "\n",
    "# Compute community detection using Louvain algorithm\n",
    "def detect_communities(G):\n",
    "    communities = nx.algorithms.community.louvain_communities(G, seed=42)\n",
    "    partition = {node: cid for cid, comm in enumerate(communities) for node in comm}\n",
    "    return partition\n",
    "\n",
    "\n",
    "def display_statistics(G):\n",
    "    print(G)\n",
    "    num_nodes = G.number_of_nodes()\n",
    "    num_edges = G.number_of_edges()\n",
    "    density = nx.density(G)\n",
    "    transitivity = nx.transitivity(G)\n",
    "    assortativity = nx.degree_assortativity_coefficient(G)\n",
    "    diameter = nx.diameter(G)\n",
    "    avg_degree = sum(dict(G.degree()).values()) / num_nodes\n",
    "    num_components = nx.number_connected_components(G)\n",
    "    \n",
    "    data = {\n",
    "        'Metric': ['Number of Nodes', 'Number of Edges', 'Density', 'Transitivity', \n",
    "                   'Assortativity', 'Diameter', 'Average Degree', 'Number of Components'],\n",
    "        'Value': [num_nodes, num_edges, density, transitivity, assortativity, diameter, avg_degree, num_components]\n",
    "    }\n",
    "    \n",
    "    df = pd.DataFrame(data)\n",
    "    return pn.widgets.DataFrame(df.set_index(\"Metric\"))\n"
   ]
  },
  {
   "cell_type": "code",
   "execution_count": 308,
   "id": "adb7acf3-0ce1-482d-9306-06d77cc6d4bf",
   "metadata": {},
   "outputs": [],
   "source": [
    "# Visualize network\n",
    "def visualize_network(file_path, centrality_measure=\"Degree\", community_measure=\"Community (inferred)\"):\n",
    "    G = nx.read_graphml(file_path)\n",
    "\n",
    "    pos = pickle.load(open(\"positions_nodes.pkl\", \"rb\"))\n",
    "    \n",
    "    # Compute centrality measures\n",
    "    centrality = compute_centrality_measures(G, centrality_measure)\n",
    "    \n",
    "    # Compute community detection\n",
    "    if community_measure==\"Community (inferred)\":\n",
    "        communities = detect_communities(G)\n",
    "    else:\n",
    "        communities = nx.get_node_attributes(G, community_measure)\n",
    "\n",
    "    communities = [communities[node] for node in G.nodes]\n",
    "    cs = ['#1f77b4', '#ff7f0e', '#2ca02c', '#d62728', '#9467bd', '#8c564b', '#e377c2', '#7f7f7f', '#bcbd22', '#17becf']\n",
    "    # Create a mapping dictionary\n",
    "    mapping_dict = {com: index for index, com in enumerate(set(communities))}\n",
    "    mapping_dict_r = {i: com for (com, i) in mapping_dict.items()}\n",
    "    # Map letters to indexes using list comprehension\n",
    "    indexes = [mapping_dict[com] for com in communities]\n",
    "    color = [cs[i%10] for i in indexes]\n",
    "\n",
    "    \n",
    "    # Prepare size based on centrality\n",
    "    size = np.array([centrality[node] for node in G.nodes()])\n",
    "    size = (size-np.min(size))/(np.max(size)-np.min(size))\n",
    "    size *= 100\n",
    "    size += 10\n",
    "\n",
    "    # Draw network\n",
    "    spring = hvnx.draw(G, \n",
    "                       pos = {node: pos[int(node)] for node in G},\n",
    "                       node_size=size, \n",
    "                       node_color=color, \n",
    "                       edge_color='darkgray', \n",
    "                       edge_alpha=0.5\n",
    "                      )\n",
    "    \n",
    "\n",
    "    return spring\n",
    "    \n"
   ]
  },
  {
   "cell_type": "code",
   "execution_count": 314,
   "id": "2b163f78-39d2-4a65-be3c-12760fda21b1",
   "metadata": {},
   "outputs": [
    {
     "data": {},
     "metadata": {},
     "output_type": "display_data"
    },
    {
     "data": {
      "application/vnd.holoviews_exec.v0+json": "",
      "text/html": [
       "<div id='c4f22d6c-9381-4f7b-ba26-1bb22c41df5f'>\n",
       "  <div id=\"c1202163-5107-476c-a590-f9d2bcd68e2d\" data-root-id=\"c4f22d6c-9381-4f7b-ba26-1bb22c41df5f\" style=\"display: contents;\"></div>\n",
       "</div>\n",
       "<script type=\"application/javascript\">(function(root) {\n",
       "  var docs_json = {\"da839ad6-868f-4fe7-bad9-978719618314\":{\"version\":\"3.2.2\",\"title\":\"Bokeh Application\",\"roots\":[{\"type\":\"object\",\"name\":\"Row\",\"id\":\"c4f22d6c-9381-4f7b-ba26-1bb22c41df5f\",\"attributes\":{\"name\":\"Row12109\",\"tags\":[\"embedded\"],\"stylesheets\":[\"\\n:host(.pn-loading.pn-arc):before, .pn-loading.pn-arc:before {\\n  background-image: url(\\\"data:image/svg+xml;base64,PHN2ZyB4bWxucz0iaHR0cDovL3d3dy53My5vcmcvMjAwMC9zdmciIHN0eWxlPSJtYXJnaW46IGF1dG87IGJhY2tncm91bmQ6IG5vbmU7IGRpc3BsYXk6IGJsb2NrOyBzaGFwZS1yZW5kZXJpbmc6IGF1dG87IiB2aWV3Qm94PSIwIDAgMTAwIDEwMCIgcHJlc2VydmVBc3BlY3RSYXRpbz0ieE1pZFlNaWQiPiAgPGNpcmNsZSBjeD0iNTAiIGN5PSI1MCIgZmlsbD0ibm9uZSIgc3Ryb2tlPSIjYzNjM2MzIiBzdHJva2Utd2lkdGg9IjEwIiByPSIzNSIgc3Ryb2tlLWRhc2hhcnJheT0iMTY0LjkzMzYxNDMxMzQ2NDE1IDU2Ljk3Nzg3MTQzNzgyMTM4Ij4gICAgPGFuaW1hdGVUcmFuc2Zvcm0gYXR0cmlidXRlTmFtZT0idHJhbnNmb3JtIiB0eXBlPSJyb3RhdGUiIHJlcGVhdENvdW50PSJpbmRlZmluaXRlIiBkdXI9IjFzIiB2YWx1ZXM9IjAgNTAgNTA7MzYwIDUwIDUwIiBrZXlUaW1lcz0iMDsxIj48L2FuaW1hdGVUcmFuc2Zvcm0+ICA8L2NpcmNsZT48L3N2Zz4=\\\");\\n  background-size: auto calc(min(50%, 400px));\\n}\",{\"type\":\"object\",\"name\":\"ImportedStyleSheet\",\"id\":\"6d5f38dc-cddf-4508-80ef-0e2d8c23328e\",\"attributes\":{\"url\":\"https://cdn.holoviz.org/panel/1.2.3/dist/css/loading.css\"}},{\"type\":\"object\",\"name\":\"ImportedStyleSheet\",\"id\":\"7d59a345-2b33-41a6-8974-6039dddb31e9\",\"attributes\":{\"url\":\"https://cdn.holoviz.org/panel/1.2.3/dist/css/listpanel.css\"}},{\"type\":\"object\",\"name\":\"ImportedStyleSheet\",\"id\":\"25fa66b0-a744-4592-9c0f-4cc15febc2a5\",\"attributes\":{\"url\":\"https://cdn.holoviz.org/panel/1.2.3/dist/bundled/theme/default.css\"}},{\"type\":\"object\",\"name\":\"ImportedStyleSheet\",\"id\":\"b65d3515-5de5-419d-9dde-170e3b6e9bd8\",\"attributes\":{\"url\":\"https://cdn.holoviz.org/panel/1.2.3/dist/bundled/theme/native.css\"}}],\"min_width\":400,\"margin\":0,\"sizing_mode\":\"stretch_width\",\"align\":\"start\",\"children\":[{\"type\":\"object\",\"name\":\"Spacer\",\"id\":\"3125e281-aae0-4f6f-baa6-e904c05c1fc0\",\"attributes\":{\"name\":\"HSpacer12120\",\"stylesheets\":[\"\\n:host(.pn-loading.pn-arc):before, .pn-loading.pn-arc:before {\\n  background-image: url(\\\"data:image/svg+xml;base64,PHN2ZyB4bWxucz0iaHR0cDovL3d3dy53My5vcmcvMjAwMC9zdmciIHN0eWxlPSJtYXJnaW46IGF1dG87IGJhY2tncm91bmQ6IG5vbmU7IGRpc3BsYXk6IGJsb2NrOyBzaGFwZS1yZW5kZXJpbmc6IGF1dG87IiB2aWV3Qm94PSIwIDAgMTAwIDEwMCIgcHJlc2VydmVBc3BlY3RSYXRpbz0ieE1pZFlNaWQiPiAgPGNpcmNsZSBjeD0iNTAiIGN5PSI1MCIgZmlsbD0ibm9uZSIgc3Ryb2tlPSIjYzNjM2MzIiBzdHJva2Utd2lkdGg9IjEwIiByPSIzNSIgc3Ryb2tlLWRhc2hhcnJheT0iMTY0LjkzMzYxNDMxMzQ2NDE1IDU2Ljk3Nzg3MTQzNzgyMTM4Ij4gICAgPGFuaW1hdGVUcmFuc2Zvcm0gYXR0cmlidXRlTmFtZT0idHJhbnNmb3JtIiB0eXBlPSJyb3RhdGUiIHJlcGVhdENvdW50PSJpbmRlZmluaXRlIiBkdXI9IjFzIiB2YWx1ZXM9IjAgNTAgNTA7MzYwIDUwIDUwIiBrZXlUaW1lcz0iMDsxIj48L2FuaW1hdGVUcmFuc2Zvcm0+ICA8L2NpcmNsZT48L3N2Zz4=\\\");\\n  background-size: auto calc(min(50%, 400px));\\n}\",{\"id\":\"6d5f38dc-cddf-4508-80ef-0e2d8c23328e\"},{\"id\":\"25fa66b0-a744-4592-9c0f-4cc15febc2a5\"},{\"id\":\"b65d3515-5de5-419d-9dde-170e3b6e9bd8\"}],\"margin\":0,\"sizing_mode\":\"stretch_width\",\"align\":\"start\"}},{\"type\":\"object\",\"name\":\"Figure\",\"id\":\"d3f730d3-9eac-4640-8ae4-69ce1849ca49\",\"attributes\":{\"width\":400,\"height\":400,\"margin\":[5,10],\"sizing_mode\":\"fixed\",\"align\":\"start\",\"x_range\":{\"type\":\"object\",\"name\":\"Range1d\",\"id\":\"fa4569ee-c4a5-40fa-9c06-5a9956e3a26c\",\"attributes\":{\"tags\":[[[\"x\",\"x\",null]],[]],\"start\":-1.0000610138173265,\"end\":1.181823728528848,\"reset_start\":-1.0000610138173265,\"reset_end\":1.181823728528848}},\"y_range\":{\"type\":\"object\",\"name\":\"Range1d\",\"id\":\"0de227fe-983c-480c-bcfc-629d8d9fcfaa\",\"attributes\":{\"tags\":[[[\"y\",\"y\",null]],{\"type\":\"map\",\"entries\":[[\"invert_yaxis\",false],[\"autorange\",false]]}],\"start\":-0.8196956912049336,\"end\":1.0842501065010497,\"reset_start\":-0.8196956912049336,\"reset_end\":1.0842501065010497}},\"x_scale\":{\"type\":\"object\",\"name\":\"LinearScale\",\"id\":\"c22ad35b-edda-42e3-9f24-43d2ddc8984d\"},\"y_scale\":{\"type\":\"object\",\"name\":\"LinearScale\",\"id\":\"1ce6692e-99ce-48d2-a33f-22e5bc92265e\"},\"title\":{\"type\":\"object\",\"name\":\"Title\",\"id\":\"c45956e3-28b1-4d94-9797-dfa2c3f29535\",\"attributes\":{\"text_color\":\"black\",\"text_font_size\":\"12pt\"}},\"outline_line_alpha\":0,\"renderers\":[{\"type\":\"object\",\"name\":\"GraphRenderer\",\"id\":\"a3c3cba0-302b-4f02-907f-e4d09f89fc22\",\"attributes\":{\"layout_provider\":{\"type\":\"object\",\"name\":\"StaticLayoutProvider\",\"id\":\"58c89644-4cee-4dd4-a1fb-2a56bdc15e66\",\"attributes\":{\"graph_layout\":{\"type\":\"map\",\"entries\":[[0,[-0.23979463174584886,0.29054534265961063]],[1,[-0.2582619959685926,0.5449782222858826]],[2,[-0.2794156165982553,0.10141296770896938]],[3,[-0.2836979924704944,0.2279685977752855]],[4,[-0.2471139779723881,0.5350867899614178]],[5,[-0.4767352742517781,0.5507777599050111]],[6,[-0.33554529334982136,0.3753908597037852]],[7,[0.6054362312814987,-0.05279619416242455]],[8,[0.7396729735053701,0.004033456487772216]],[9,[0.2255271800719835,0.12008864087024403]],[10,[0.6156522191294733,-0.013694621631742246]],[11,[0.4595913972781017,-0.00787824646141182]],[12,[0.5411523216778538,0.05266946888939161]],[13,[0.6587647812113001,0.1180463054640288]],[14,[1.0,0.02863261956326833]],[15,[0.8223690572333717,0.10858330639371756]],[16,[0.5357628160233504,0.02748253137635599]],[17,[0.6015918065253034,-0.10521318802772744]],[18,[0.002292836064962644,-0.6339257279090377]],[19,[0.019237625323167758,-0.4220429081749723]],[20,[-0.4615890648521609,0.3624351996533267]],[21,[-0.38645744223531014,0.3894623025652924]],[22,[-0.6472161962897937,0.8812719981114764]],[23,[0.23502010422962646,0.007071587234331211]],[24,[0.28753055521314697,0.1256146557353302]],[25,[0.44214559979188084,0.09796208153706078]],[26,[0.3378348061580639,0.04761825863328054]],[27,[0.2744344142866817,0.0566658438981538]],[28,[0.4264424253038979,-0.020283333827155497]],[29,[-0.8182372852884787,0.6688549596747809]],[30,[-0.4532208975945544,0.4931124202576236]],[31,[-0.0959742515883607,0.4861317086158926]],[32,[-0.20357910081167577,0.9255879566922178]],[33,[-0.19468740134741302,0.4043974998755312]],[34,[0.5446501632736739,0.22648044184205668]],[35,[0.550979637883795,0.17861060542387322]],[36,[0.41000846969213645,-0.0676855330268222]],[37,[0.5208495636687406,-0.07124494662763156]],[38,[0.33845740753850717,0.0360768033276316]],[39,[0.3184116352774353,0.0009722978208037561]],[40,[-0.19574977376228306,0.13704047315666953]],[41,[-0.35139755373064135,0.11901972487177691]],[42,[-0.4536529260193436,0.07548456523134818]],[43,[-0.6543866114237202,0.2190423384826007]],[44,[-0.47270911302115504,0.23276495834038688]],[45,[-0.26988951824837204,0.16225485974674123]],[46,[-0.6391085551672464,0.1170202611432169]],[47,[-0.1749870759741559,-0.2052703328331866]],[48,[-0.40173900285095915,0.18925558101880818]],[49,[-0.34518914549910584,0.564717997837001]],[50,[-0.25574305415083926,0.48985923099472767]],[51,[-0.40857793932785286,0.692884964296345]],[52,[-0.2068804822511972,0.5087928564585797]],[53,[-0.33094542314240283,0.45904725637759974]],[54,[-0.17711599648798348,0.7501999077029776]],[55,[-0.33788941162189423,0.4787217667714994]],[56,[-0.1411598131922608,0.44138662748311847]],[57,[-0.42595315255628335,0.6252773019731165]],[58,[0.08738386001211268,-0.45583124150943655]],[59,[0.046491473659223306,-0.3397615239357826]],[60,[0.2000966158612675,-0.3785622051920174]],[61,[0.05065577425503175,-0.24181444432474433]],[62,[0.10381552394299431,-0.6165356891515008]],[63,[0.046826866759539565,-0.3883086506860264]],[64,[-0.03762769492517065,-0.2909125120492044]],[65,[0.20825206014953626,-0.5532766630913297]],[66,[-0.12839476895638882,-0.4873572125432502]],[67,[0.0658567414119335,-0.29446556585339506]],[68,[-0.016328733748127537,-0.428498850779401]],[69,[-0.05614360353542924,-0.49530263851219]],[70,[-0.7984404850142189,0.8101422883118299]],[71,[-0.5809862419936378,0.5490838706668283]],[72,[-0.32564283114211673,0.5627464269300368]],[73,[-0.3913152646265361,0.15011883422722522]],[74,[-0.5716760071764543,0.21382605277027386]],[75,[-0.40004024594293136,0.10715506086275262]],[76,[-0.3593841777290836,0.03843957655700152]],[77,[-0.36866313009483426,0.33929056131920476]],[78,[-0.4117703639291073,0.5300029498382949]],[79,[0.4508512519341468,0.05047895527426393]],[80,[0.8753440431879888,0.027584884514873044]],[81,[0.042941759260311095,-0.16475601953408395]],[82,[0.12601772661453128,-0.5233383071730124]],[83,[0.33975590735262956,-0.15087615401871673]],[84,[0.8295657075300156,-0.07553017461337375]],[85,[-0.11706210299571819,-0.29514197293918226]],[86,[-0.050781226108604235,-0.4031871186685231]],[87,[-0.13183293631544718,-0.35397599821004866]],[88,[-0.03275042834262924,-0.2088309235243926]],[89,[-0.23450026398813004,0.1305624234106957]],[90,[-0.24234061373614743,0.22892145122723054]],[91,[-0.46638265635432263,0.2663020168407225]],[92,[-0.542211901795043,0.42543812901745676]],[93,[-0.18725258668274908,0.2703097962537519]],[94,[-0.1872117388347367,0.4071147820514946]],[95,[-0.2713748805948105,0.5877858128086506]],[96,[-0.19279304053539575,0.6222425673349807]],[97,[0.16474378746870594,-0.5564803818071454]],[98,[-0.01717947063119562,-0.5458380566845493]],[99,[0.018467104595235182,-0.2127052934912501]],[100,[-0.06971167283871224,-0.5805410366464857]],[101,[0.022498091460566538,-0.30289722241825423]],[102,[0.13502756738165175,-0.23555512435963344]],[103,[0.13507904436745338,-0.6610335413961016]],[104,[-0.29626097405259,-0.18803805938143167]],[105,[-0.06264209158022112,-0.22414324179964706]],[106,[-0.4978231740507331,0.5169440387871762]],[107,[-0.16135683908876797,-0.2859620912908324]],[108,[-0.246419238587691,-0.14187949290889865]],[109,[-0.26882951561287605,-0.31670843723741915]],[110,[-0.3673840022275485,-0.25753886555024375]],[111,[-0.19202188705043627,-0.1186403654362184]],[112,[-0.3396848101595995,-0.28731376426205946]],[113,[-0.2805163596722728,-0.24201023395700694]],[114,[-0.10637646440193316,-0.3391478922704592]],[115,[-0.36004920066753726,-0.38992764174024563]],[116,[-0.22906380664818846,-0.45695202040722227]],[117,[-0.0700371337866983,-0.4187711192760743]],[118,[-0.3096312837672174,-0.4394645243829034]],[119,[-0.134736373112869,-0.1644764048992067]]]}}},\"node_renderer\":{\"type\":\"object\",\"name\":\"GlyphRenderer\",\"id\":\"5e672615-bea2-4875-b323-e9c6e62787c2\",\"attributes\":{\"data_source\":{\"type\":\"object\",\"name\":\"ColumnDataSource\",\"id\":\"23599652-b75e-44fc-a6aa-6f453ad4a2b1\",\"attributes\":{\"selected\":{\"type\":\"object\",\"name\":\"Selection\",\"id\":\"ecfc5a95-f065-4e25-8434-ba47ea5ce982\",\"attributes\":{\"indices\":[],\"line_indices\":[]}},\"selection_policy\":{\"type\":\"object\",\"name\":\"UnionRenderers\",\"id\":\"fe4e2236-872c-43d6-b692-895d2a9fe79f\"},\"data\":{\"type\":\"map\",\"entries\":[[\"index\",{\"type\":\"ndarray\",\"array\":{\"type\":\"bytes\",\"data\":\"AAAAAAEAAAACAAAAAwAAAAQAAAAFAAAABgAAAAcAAAAIAAAACQAAAAoAAAALAAAADAAAAA0AAAAOAAAADwAAABAAAAARAAAAEgAAABMAAAAUAAAAFQAAABYAAAAXAAAAGAAAABkAAAAaAAAAGwAAABwAAAAdAAAAHgAAAB8AAAAgAAAAIQAAACIAAAAjAAAAJAAAACUAAAAmAAAAJwAAACgAAAApAAAAKgAAACsAAAAsAAAALQAAAC4AAAAvAAAAMAAAADEAAAAyAAAAMwAAADQAAAA1AAAANgAAADcAAAA4AAAAOQAAADoAAAA7AAAAPAAAAD0AAAA+AAAAPwAAAEAAAABBAAAAQgAAAEMAAABEAAAARQAAAEYAAABHAAAASAAAAEkAAABKAAAASwAAAEwAAABNAAAATgAAAE8AAABQAAAAUQAAAFIAAABTAAAAVAAAAFUAAABWAAAAVwAAAFgAAABZAAAAWgAAAFsAAABcAAAAXQAAAF4AAABfAAAAYAAAAGEAAABiAAAAYwAAAGQAAABlAAAAZgAAAGcAAABoAAAAaQAAAGoAAABrAAAAbAAAAG0AAABuAAAAbwAAAHAAAABxAAAAcgAAAHMAAAB0AAAAdQAAAHYAAAB3AAAA\"},\"shape\":[120],\"dtype\":\"int32\",\"order\":\"little\"}],[\"index_hover\",[\"2\",\"10\",\"39\",\"53\",\"65\",\"118\",\"143\",\"6\",\"8\",\"19\",\"74\",\"80\",\"93\",\"172\",\"239\",\"246\",\"250\",\"254\",\"7\",\"211\",\"124\",\"154\",\"171\",\"16\",\"30\",\"51\",\"88\",\"201\",\"176\",\"24\",\"218\",\"26\",\"224\",\"249\",\"33\",\"139\",\"181\",\"34\",\"45\",\"116\",\"37\",\"44\",\"91\",\"132\",\"147\",\"109\",\"200\",\"295\",\"46\",\"47\",\"168\",\"169\",\"284\",\"52\",\"142\",\"148\",\"177\",\"279\",\"55\",\"56\",\"184\",\"227\",\"235\",\"258\",\"311\",\"163\",\"57\",\"75\",\"214\",\"215\",\"59\",\"107\",\"183\",\"60\",\"180\",\"241\",\"63\",\"149\",\"256\",\"159\",\"234\",\"95\",\"199\",\"79\",\"167\",\"226\",\"260\",\"300\",\"316\",\"101\",\"111\",\"105\",\"185\",\"134\",\"280\",\"288\",\"275\",\"262\",\"225\",\"188\",\"197\",\"203\",\"189\",\"198\",\"324\",\"306\",\"231\",\"314\",\"292\",\"303\",\"309\",\"322\",\"326\",\"293\",\"298\",\"317\",\"302\",\"301\",\"310\",\"315\"]],[\"Classroom\",{\"type\":\"ndarray\",\"array\":[\"2BIO2\",\"2BIO2\",\"2BIO3\",\"2BIO2\",\"2BIO1\",\"2BIO2\",\"2BIO2\",\"PC\",\"PC\",\"PC\",\"PC\",\"PC\",\"PC\",\"PC\",\"PC\",\"PC\",\"PC\",\"PC\",\"MP*1\",\"MP\",\"2BIO2\",\"2BIO2\",\"2BIO2\",\"PC\",\"PC\",\"PC\",\"PC\",\"PC\",\"PC\",\"2BIO1\",\"2BIO1\",\"2BIO1\",\"2BIO1\",\"2BIO1\",\"PC\",\"PC\",\"PC\",\"PC\",\"PC\",\"PC\",\"2BIO3\",\"2BIO3\",\"2BIO3\",\"2BIO3\",\"2BIO3\",\"2BIO3\",\"2BIO3\",\"MP*2\",\"2BIO3\",\"2BIO1\",\"2BIO1\",\"2BIO1\",\"2BIO1\",\"2BIO1\",\"2BIO1\",\"2BIO1\",\"2BIO1\",\"2BIO1\",\"MP\",\"MP\",\"MP\",\"MP\",\"MP\",\"MP\",\"MP*2\",\"MP\",\"MP\",\"MP\",\"MP\",\"MP\",\"2BIO2\",\"2BIO2\",\"2BIO1\",\"2BIO3\",\"2BIO3\",\"2BIO3\",\"2BIO2\",\"2BIO2\",\"2BIO1\",\"PC\",\"PC\",\"MP\",\"MP\",\"PC\",\"PC\",\"MP\",\"MP\",\"MP*2\",\"MP*2\",\"2BIO3\",\"2BIO3\",\"2BIO3\",\"2BIO2\",\"2BIO2\",\"2BIO1\",\"2BIO1\",\"2BIO1\",\"MP\",\"MP\",\"MP\",\"MP\",\"MP\",\"MP\",\"MP\",\"MP*2\",\"MP*2\",\"2BIO1\",\"MP*2\",\"MP*2\",\"MP*2\",\"MP*2\",\"MP*2\",\"MP*2\",\"MP*2\",\"MP*2\",\"MP*2\",\"MP*2\",\"MP*2\",\"MP*2\",\"MP*2\"],\"shape\":[120],\"dtype\":\"object\",\"order\":\"little\"}],[\"Gender\",{\"type\":\"ndarray\",\"array\":[\"M\",\"M\",\"F\",\"M\",\"F\",\"F\",\"M\",\"M\",\"M\",\"M\",\"M\",\"F\",\"F\",\"M\",\"M\",\"M\",\"M\",\"F\",\"M\",\"M\",\"M\",\"F\",\"F\",\"F\",\"F\",\"F\",\"F\",\"F\",\"M\",\"F\",\"F\",\"M\",\"F\",\"F\",\"F\",\"F\",\"M\",\"M\",\"F\",\"F\",\"F\",\"F\",\"F\",\"F\",\"F\",\"F\",\"F\",\"M\",\"F\",\"F\",\"F\",\"M\",\"F\",\"F\",\"F\",\"M\",\"F\",\"F\",\"M\",\"F\",\"F\",\"F\",\"F\",\"M\",\"M\",\"F\",\"M\",\"M\",\"M\",\"M\",\"F\",\"F\",\"F\",\"F\",\"M\",\"F\",\"F\",\"M\",\"F\",\"M\",\"M\",\"F\",\"M\",\"F\",\"F\",\"M\",\"M\",\"M\",\"M\",\"F\",\"F\",\"F\",\"F\",\"M\",\"F\",\"F\",\"F\",\"F\",\"M\",\"F\",\"F\",\"M\",\"F\",\"F\",\"M\",\"F\",\"M\",\"M\",\"F\",\"M\",\"F\",\"F\",\"M\",\"M\",\"M\",\"M\",\"M\",\"M\",\"M\",\"F\"],\"shape\":[120],\"dtype\":\"object\",\"order\":\"little\"}],[\"Program\",{\"type\":\"ndarray\",\"array\":[\"2B\",\"2B\",\"2B\",\"2B\",\"2B\",\"2B\",\"2B\",\"PC\",\"PC\",\"PC\",\"PC\",\"PC\",\"PC\",\"PC\",\"PC\",\"PC\",\"PC\",\"PC\",\"MP\",\"MP\",\"2B\",\"2B\",\"2B\",\"PC\",\"PC\",\"PC\",\"PC\",\"PC\",\"PC\",\"2B\",\"2B\",\"2B\",\"2B\",\"2B\",\"PC\",\"PC\",\"PC\",\"PC\",\"PC\",\"PC\",\"2B\",\"2B\",\"2B\",\"2B\",\"2B\",\"2B\",\"2B\",\"MP\",\"2B\",\"2B\",\"2B\",\"2B\",\"2B\",\"2B\",\"2B\",\"2B\",\"2B\",\"2B\",\"MP\",\"MP\",\"MP\",\"MP\",\"MP\",\"MP\",\"MP\",\"MP\",\"MP\",\"MP\",\"MP\",\"MP\",\"2B\",\"2B\",\"2B\",\"2B\",\"2B\",\"2B\",\"2B\",\"2B\",\"2B\",\"PC\",\"PC\",\"MP\",\"MP\",\"PC\",\"PC\",\"MP\",\"MP\",\"MP\",\"MP\",\"2B\",\"2B\",\"2B\",\"2B\",\"2B\",\"2B\",\"2B\",\"2B\",\"MP\",\"MP\",\"MP\",\"MP\",\"MP\",\"MP\",\"MP\",\"MP\",\"MP\",\"2B\",\"MP\",\"MP\",\"MP\",\"MP\",\"MP\",\"MP\",\"MP\",\"MP\",\"MP\",\"MP\",\"MP\",\"MP\",\"MP\"],\"shape\":[120],\"dtype\":\"object\",\"order\":\"little\"}],[\"node_fill_color\",{\"type\":\"ndarray\",\"array\":[\"#ff7f0e\",\"#ff7f0e\",\"#ff7f0e\",\"#ff7f0e\",\"#ff7f0e\",\"#ff7f0e\",\"#ff7f0e\",\"#2ca02c\",\"#2ca02c\",\"#2ca02c\",\"#2ca02c\",\"#2ca02c\",\"#2ca02c\",\"#2ca02c\",\"#2ca02c\",\"#2ca02c\",\"#2ca02c\",\"#2ca02c\",\"#1f77b4\",\"#1f77b4\",\"#ff7f0e\",\"#ff7f0e\",\"#ff7f0e\",\"#2ca02c\",\"#2ca02c\",\"#2ca02c\",\"#2ca02c\",\"#2ca02c\",\"#2ca02c\",\"#ff7f0e\",\"#ff7f0e\",\"#ff7f0e\",\"#ff7f0e\",\"#ff7f0e\",\"#2ca02c\",\"#2ca02c\",\"#2ca02c\",\"#2ca02c\",\"#2ca02c\",\"#2ca02c\",\"#ff7f0e\",\"#ff7f0e\",\"#ff7f0e\",\"#ff7f0e\",\"#ff7f0e\",\"#ff7f0e\",\"#ff7f0e\",\"#1f77b4\",\"#ff7f0e\",\"#ff7f0e\",\"#ff7f0e\",\"#ff7f0e\",\"#ff7f0e\",\"#ff7f0e\",\"#ff7f0e\",\"#ff7f0e\",\"#ff7f0e\",\"#ff7f0e\",\"#1f77b4\",\"#1f77b4\",\"#1f77b4\",\"#1f77b4\",\"#1f77b4\",\"#1f77b4\",\"#1f77b4\",\"#1f77b4\",\"#1f77b4\",\"#1f77b4\",\"#1f77b4\",\"#1f77b4\",\"#ff7f0e\",\"#ff7f0e\",\"#ff7f0e\",\"#ff7f0e\",\"#ff7f0e\",\"#ff7f0e\",\"#ff7f0e\",\"#ff7f0e\",\"#ff7f0e\",\"#2ca02c\",\"#2ca02c\",\"#1f77b4\",\"#1f77b4\",\"#2ca02c\",\"#2ca02c\",\"#1f77b4\",\"#1f77b4\",\"#1f77b4\",\"#1f77b4\",\"#ff7f0e\",\"#ff7f0e\",\"#ff7f0e\",\"#ff7f0e\",\"#ff7f0e\",\"#ff7f0e\",\"#ff7f0e\",\"#ff7f0e\",\"#1f77b4\",\"#1f77b4\",\"#1f77b4\",\"#1f77b4\",\"#1f77b4\",\"#1f77b4\",\"#1f77b4\",\"#1f77b4\",\"#1f77b4\",\"#ff7f0e\",\"#1f77b4\",\"#1f77b4\",\"#1f77b4\",\"#1f77b4\",\"#1f77b4\",\"#1f77b4\",\"#1f77b4\",\"#1f77b4\",\"#1f77b4\",\"#1f77b4\",\"#1f77b4\",\"#1f77b4\",\"#1f77b4\"],\"shape\":[120],\"dtype\":\"object\",\"order\":\"little\"}],[\"node_size\",{\"type\":\"ndarray\",\"array\":{\"type\":\"bytes\",\"data\":\"7xe2SHChD0C8kFkNe1wSQM52sodbORdA7Nl+mLt9C0AuGUMyG9gOQA9yc4zdchZAX67QviHSEUAiO8KQXWAKQJ9GpsnbAwxAquFN6ALlCUAgcG9YNqQLQEHw+wlToApABIXpuxFCDUDTR1j0i1gJQPD9W9lWZQlA4nLsyKj9C0BxOOh6G50MQNcMIplFmg1AU1vaOlhMCUBx7L1gQpUQQK0C+yMv6AtA0gmAwGguDUD1R6fOH9kKQMtTNa9H/wxAPy0T38JKCkBU6N3e5D8NQG/ppgFZvQlAHkThg8bdCUCf+ke2CXwNQFNb2jpYTAlAbRnmxfZ1EEAF+KsiFmsTQLMfGtmqLQ5AlQQqOlJlC0AU2PH81koUQMFYwNIORhZAWnsiQAO2JECiu8CXoU0MQBYywwfRYwlAnmRIzpFzCUBLxxi4Rd4LQFHsHYCFABRAmZUPiiROCkB9JqRw3gQTQAmnNEHAFg1A35iztU3vEUAoBkHBf00QQPqU4mKtvQ1AoN/0BUb+DkBTW9o6WEwJQIKtXcDy5xJAU1vaOlhMCUBTW9o6WEwJQLvy9CZeIhJAEeshNLAIDkBxfgGLsmsSQFNb2jpYTAlA7h4ED4QyGUB/Y2kDaisQQLCLjxf2YwpAbbaVtupWIEB/Js4+yv8LQKbNGS8cPwtATEpL8orYGEBiYvNi63IPQOB/RC+v7Q9AZbkX1AJsDkAKybUa1yATQPR00DyB7gxAM+K7k9PnIEBSJUt03mQKQJNSStffIhBAF/hwBBHFCkDknZtZPW0JQIWTrPFHwwxA24ZmaH60D0CLCLbJ5tIJQD257JF/rQpAnyEzneElEEDAJK0qiewdQFNb2jpYTAlAmq3h8+JPFUDDv/cGnjciQOfGi4VZ3wxA0nj6KeglDED7EYWQEhgkQEh47dBWdgxAuLcWdp2QEUA/z/fdo1URQA8dLasTQwpAqcoTlsowCkBTW9o6WEwJQCt/af/rlA1AN26y4rHgC0CBSBC4gV4jQMuxZCT8dhVAhJ14hfhuCUBTW9o6WEwJQLPsxLvm+SRAU1vaOlhMCUBTW9o6WEwJQIxKR1VH2BtAfGv+3AAjC0BJprRIrl0JQEiqXTygdxNAA0JDKcMIGkAs7cytABELQIDeDZsXtRdAFcPcUZWYCUBU4Hp0zwcWQG4LBOxl0AtAdIXFiIwaDUA34cUYW7ILQI7xFbLI6ApAjU2WDm2/C0BTW9o6WEwJQFNb2jpYTAlAU1vaOlhMCUAKecEn7MkSQCPkMTPePQ5A\"},\"shape\":[120],\"dtype\":\"float64\",\"order\":\"little\"}]]}}},\"view\":{\"type\":\"object\",\"name\":\"CDSView\",\"id\":\"a4d2162f-b3be-47f4-ad21-9ac8841e5e7b\",\"attributes\":{\"filter\":{\"type\":\"object\",\"name\":\"AllIndices\",\"id\":\"ce79cfe9-757a-4407-b9c0-65f9b489f535\"}}},\"glyph\":{\"type\":\"object\",\"name\":\"Circle\",\"id\":\"a46abe76-d487-4f87-b0dc-a87752f9b578\",\"attributes\":{\"size\":{\"type\":\"field\",\"field\":\"node_size\"},\"fill_color\":{\"type\":\"field\",\"field\":\"node_fill_color\"},\"hatch_color\":{\"type\":\"value\",\"value\":\"#30a2da\"}}},\"nonselection_glyph\":{\"type\":\"object\",\"name\":\"Circle\",\"id\":\"0508909b-4e14-4ca3-a8dd-42b4d1f14cf6\",\"attributes\":{\"size\":{\"type\":\"field\",\"field\":\"node_size\"},\"line_alpha\":{\"type\":\"value\",\"value\":0.2},\"fill_color\":{\"type\":\"value\",\"value\":\"#30a2da\"},\"fill_alpha\":{\"type\":\"value\",\"value\":0.2},\"hatch_color\":{\"type\":\"value\",\"value\":\"#30a2da\"},\"hatch_alpha\":{\"type\":\"value\",\"value\":0.2}}},\"hover_glyph\":{\"type\":\"object\",\"name\":\"Circle\",\"id\":\"55da217f-8b6f-40e1-83a1-98d4c83bc056\",\"attributes\":{\"size\":{\"type\":\"field\",\"field\":\"node_size\"},\"fill_color\":{\"type\":\"value\",\"value\":\"limegreen\"},\"hatch_color\":{\"type\":\"value\",\"value\":\"#30a2da\"}}},\"muted_glyph\":{\"type\":\"object\",\"name\":\"Circle\",\"id\":\"546ba1a9-f6fd-4865-a677-d69a89d4eb15\",\"attributes\":{\"size\":{\"type\":\"field\",\"field\":\"node_size\"},\"line_alpha\":{\"type\":\"value\",\"value\":0.2},\"fill_color\":{\"type\":\"field\",\"field\":\"node_fill_color\"},\"fill_alpha\":{\"type\":\"value\",\"value\":0.2},\"hatch_color\":{\"type\":\"value\",\"value\":\"#30a2da\"},\"hatch_alpha\":{\"type\":\"value\",\"value\":0.2}}}}},\"edge_renderer\":{\"type\":\"object\",\"name\":\"GlyphRenderer\",\"id\":\"2e1b957b-8bf8-437c-8d8b-d6b6765bf28b\",\"attributes\":{\"data_source\":{\"type\":\"object\",\"name\":\"ColumnDataSource\",\"id\":\"54571e42-aaf6-461b-8540-e7fee169f010\",\"attributes\":{\"selected\":{\"type\":\"object\",\"name\":\"Selection\",\"id\":\"5165c738-ccc7-44c0-a254-725518cab57b\",\"attributes\":{\"indices\":[],\"line_indices\":[]}},\"selection_policy\":{\"type\":\"object\",\"name\":\"UnionRenderers\",\"id\":\"428cf7fe-04d6-4c06-9875-55ea8de49458\"},\"data\":{\"type\":\"map\",\"entries\":[[\"start\",{\"type\":\"ndarray\",\"array\":{\"type\":\"bytes\",\"data\":\"AAAAAAAAAAAAAAAAAAAAAAAAAAAAAAAAAQAAAAEAAAABAAAAAQAAAAEAAAABAAAAAQAAAAEAAAABAAAAAgAAAAIAAAACAAAAAgAAAAIAAAACAAAAAgAAAAIAAAADAAAABAAAAAQAAAAEAAAABAAAAAQAAAAEAAAABQAAAAUAAAAFAAAABQAAAAUAAAAGAAAABgAAAAYAAAAGAAAABgAAAAYAAAAGAAAABgAAAAcAAAAHAAAABwAAAAcAAAAHAAAABwAAAAcAAAAHAAAABwAAAAcAAAAIAAAACAAAAAgAAAAIAAAACAAAAAgAAAAJAAAACQAAAAkAAAAJAAAACgAAAAoAAAAKAAAACgAAAAoAAAAKAAAACgAAAAsAAAALAAAACwAAAAsAAAALAAAACwAAAAwAAAAMAAAADAAAAAwAAAAMAAAADAAAAA0AAAANAAAADgAAAA4AAAAPAAAAEAAAABAAAAAQAAAAEAAAABEAAAARAAAAEQAAABEAAAARAAAAEgAAABMAAAATAAAAEwAAABMAAAAUAAAAFAAAABQAAAAVAAAAFQAAABUAAAAVAAAAFQAAABYAAAAWAAAAFgAAABcAAAAXAAAAFwAAABcAAAAXAAAAGAAAABgAAAAZAAAAGQAAABkAAAAZAAAAGgAAABoAAAAaAAAAGgAAABoAAAAbAAAAGwAAABwAAAAcAAAAHAAAABwAAAAdAAAAHQAAAB4AAAAeAAAAHgAAAB4AAAAfAAAAHwAAAB8AAAAfAAAAIAAAACAAAAAgAAAAIAAAACAAAAAhAAAAIgAAACIAAAAjAAAAIwAAACMAAAAkAAAAJAAAACUAAAAlAAAAJQAAACUAAAAmAAAAJgAAACYAAAAnAAAAJwAAACgAAAAoAAAAKAAAACgAAAApAAAAKQAAACkAAAApAAAAKgAAACoAAAArAAAAKwAAACsAAAArAAAAKwAAACsAAAAsAAAALQAAAC0AAAAtAAAALQAAAC0AAAAuAAAALgAAAC4AAAAuAAAALwAAAC8AAAAvAAAALwAAAC8AAAAvAAAALwAAADAAAAAwAAAAMQAAADEAAAAxAAAAMgAAADIAAAAyAAAAMwAAADUAAAA1AAAANQAAADUAAAA2AAAANgAAADYAAAA2AAAANgAAADcAAAA3AAAANwAAADcAAAA4AAAAOQAAADkAAAA5AAAAOgAAADoAAAA6AAAAOgAAADoAAAA6AAAAOwAAADsAAAA7AAAAPAAAADwAAAA8AAAAPAAAADwAAAA8AAAAPQAAAD0AAAA9AAAAPgAAAD4AAAA/AAAAPwAAAD8AAAA/AAAAQAAAAEAAAABAAAAAQQAAAEEAAABBAAAAQQAAAEIAAABCAAAAQgAAAEIAAABDAAAAQwAAAEMAAABDAAAARAAAAEQAAABFAAAARQAAAEUAAABGAAAARgAAAEYAAABHAAAASAAAAEkAAABJAAAASgAAAEoAAABLAAAATAAAAE0AAABNAAAATgAAAE8AAABPAAAAUAAAAFEAAABRAAAAUQAAAFEAAABSAAAAUgAAAFMAAABVAAAAVQAAAFUAAABWAAAAVwAAAFcAAABXAAAAVwAAAFcAAABYAAAAWAAAAFgAAABYAAAAWAAAAFkAAABeAAAAXwAAAGAAAABiAAAAYgAAAGMAAABjAAAAZAAAAGUAAABmAAAAaAAAAGgAAABoAAAAaQAAAGkAAABpAAAAaQAAAGsAAABrAAAAawAAAGsAAABsAAAAbAAAAGwAAABsAAAAbAAAAG0AAABtAAAAbQAAAG0AAABtAAAAbQAAAG4AAABvAAAAbwAAAHAAAABwAAAAcgAAAHIAAAByAAAA\"},\"shape\":[348],\"dtype\":\"int32\",\"order\":\"little\"}],[\"end\",{\"type\":\"ndarray\",\"array\":{\"type\":\"bytes\",\"data\":\"AQAAAAIAAAADAAAABAAAAAUAAAAGAAAABQAAABQAAAAGAAAAFQAAABYAAAADAAAARwAAAFwAAABfAAAALQAAAC4AAAAvAAAAAwAAAEoAAABLAAAAbQAAAGgAAAAGAAAANgAAAAYAAAAhAAAATgAAADkAAABfAAAATAAAAF4AAAAUAAAAFQAAAFwAAABHAAAANgAAAB8AAABNAAAAFQAAACEAAABcAAAAOQAAAAgAAAAJAAAACgAAAAsAAAAMAAAADQAAAA4AAAAPAAAAEAAAABEAAAAKAAAAEAAAAE8AAAANAAAADgAAAA8AAAAXAAAAGAAAABwAAAARAAAATwAAABsAAABQAAAAEAAAAFMAAAAOAAAAEQAAACIAAAAMAAAAVAAAABwAAAARAAAATwAAACIAAAAjAAAAVAAAAA0AAAAPAAAAEQAAAA4AAAAPAAAADwAAABAAAABPAAAAIgAAAE8AAAAbAAAAEQAAAFMAAAAnAAAATwAAAFQAAAAaAAAAEwAAADwAAABVAAAAVgAAAGkAAABdAAAAFgAAAE0AAABMAAAAXQAAAE0AAAAWAAAAXAAAAF0AAABNAAAAMgAAABgAAAAZAAAAGgAAABsAAAAjAAAAGwAAACMAAAAiAAAAIwAAACQAAABPAAAAJQAAACYAAABTAAAAJwAAABwAAABUAAAAIwAAACIAAAAlAAAAJgAAACcAAAAeAAAANQAAADUAAABaAAAAKwAAAEcAAAAgAAAAIQAAADIAAAA5AAAAMQAAADIAAAAzAAAAIQAAADQAAAAyAAAAIwAAACQAAAAkAAAATwAAAFQAAABPAAAAYgAAACYAAAAnAAAAUwAAAE8AAABTAAAAJwAAAFQAAABTAAAAVAAAACkAAAAqAAAAKwAAACwAAAAwAAAAKgAAACwAAABeAAAALAAAADcAAABbAAAARwAAACwAAABKAAAALgAAAEsAAAAwAAAASQAAAF0AAAAyAAAASgAAAC4AAABbAAAASgAAAEsAAABoAAAAbAAAAG0AAABuAAAAdwAAAG8AAABoAAAAcAAAADUAAABZAAAAMgAAADMAAAA0AAAAXQAAADMAAAA0AAAANAAAADYAAAA3AAAAOAAAADkAAAA3AAAAOAAAAE4AAAA5AAAAXwAAADgAAABgAAAAOQAAAF4AAAA5AAAATgAAAF8AAABeAAAAOwAAADwAAAA9AAAAPgAAAD8AAABAAAAAQQAAAD0AAAA/AAAAUQAAAEMAAABSAAAAVQAAAD8AAABWAAAAZgAAAGcAAAA/AAAAZwAAAD8AAABCAAAARAAAAEAAAABrAAAAcQAAAGsAAABYAAAAQgAAAEQAAABhAAAARQAAAEMAAABEAAAARQAAAGYAAABRAAAAUgAAAGUAAABFAAAAZgAAAEUAAABSAAAAZQAAAFUAAABHAAAASAAAAFwAAABcAAAATgAAAEoAAABLAAAAWwAAAEsAAABoAAAATQAAAF0AAABcAAAAXgAAAFMAAABQAAAAUwAAAFUAAABWAAAAVwAAAFgAAABlAAAAYgAAAFQAAABWAAAAaQAAAF4AAABpAAAAdAAAAGsAAABYAAAAdgAAAHAAAAByAAAAdwAAAHMAAABvAAAAcAAAAFoAAABqAAAAaQAAAGoAAABlAAAAdQAAAGQAAABlAAAAZQAAAHUAAABnAAAAbQAAAG4AAAB2AAAAdgAAAGsAAAB3AAAAbwAAAHIAAABtAAAAdgAAAHcAAABtAAAAbgAAAG8AAABwAAAAdwAAAHIAAABuAAAAbwAAAHAAAAB2AAAAdwAAAHEAAAB2AAAAcAAAAHYAAAB3AAAAcwAAAHYAAAB3AAAA\"},\"shape\":[348],\"dtype\":\"int32\",\"order\":\"little\"}]]}}},\"view\":{\"type\":\"object\",\"name\":\"CDSView\",\"id\":\"e0557457-6431-4073-bb68-ea8ce9640d94\",\"attributes\":{\"filter\":{\"type\":\"object\",\"name\":\"AllIndices\",\"id\":\"447a2469-93fc-433b-beed-c545fa53dd6b\"}}},\"glyph\":{\"type\":\"object\",\"name\":\"MultiLine\",\"id\":\"b54d4e89-b313-471b-a154-2bb31cab5b51\",\"attributes\":{\"line_color\":{\"type\":\"value\",\"value\":\"darkgray\"},\"line_alpha\":{\"type\":\"value\",\"value\":0.5},\"line_width\":{\"type\":\"value\",\"value\":2}}},\"nonselection_glyph\":{\"type\":\"object\",\"name\":\"MultiLine\",\"id\":\"5c9c3cbd-c429-44b9-9015-3ef1f664bedd\",\"attributes\":{\"line_alpha\":{\"type\":\"value\",\"value\":0.2},\"line_width\":{\"type\":\"value\",\"value\":2}}},\"hover_glyph\":{\"type\":\"object\",\"name\":\"MultiLine\",\"id\":\"0393630e-ed57-492e-80da-8ca7d7bf1765\",\"attributes\":{\"line_color\":{\"type\":\"value\",\"value\":\"limegreen\"},\"line_alpha\":{\"type\":\"value\",\"value\":0.5},\"line_width\":{\"type\":\"value\",\"value\":2}}},\"muted_glyph\":{\"type\":\"object\",\"name\":\"MultiLine\",\"id\":\"5e41f204-49e8-46a9-b647-29099f1a1ba0\",\"attributes\":{\"line_color\":{\"type\":\"value\",\"value\":\"darkgray\"},\"line_alpha\":{\"type\":\"value\",\"value\":0.2},\"line_width\":{\"type\":\"value\",\"value\":2}}}}},\"selection_policy\":{\"type\":\"object\",\"name\":\"NodesAndLinkedEdges\",\"id\":\"4267855f-4094-4b67-9d59-26cc8ab9eeac\"},\"inspection_policy\":{\"type\":\"object\",\"name\":\"NodesAndLinkedEdges\",\"id\":\"bc95ee58-5b44-4e9e-96d5-6e3099d27327\"}}}],\"toolbar\":{\"type\":\"object\",\"name\":\"Toolbar\",\"id\":\"23397cc6-8c94-4e9c-9023-f1005148fac1\",\"attributes\":{\"tools\":[{\"type\":\"object\",\"name\":\"WheelZoomTool\",\"id\":\"12986c89-849d-42de-9b66-d9325fbd3311\",\"attributes\":{\"tags\":[\"hv_created\"],\"zoom_together\":\"none\"}},{\"type\":\"object\",\"name\":\"HoverTool\",\"id\":\"8aafe6e4-976f-4f5b-a2db-8ff7b8ba0964\",\"attributes\":{\"renderers\":[{\"id\":\"a3c3cba0-302b-4f02-907f-e4d09f89fc22\"}],\"tooltips\":[[\"index\",\"@{index_hover}\"],[\"Classroom\",\"@{Classroom}\"],[\"Gender\",\"@{Gender}\"],[\"Program\",\"@{Program}\"]]}},{\"type\":\"object\",\"name\":\"SaveTool\",\"id\":\"505c50b6-1ef9-4fd7-a567-f72de2eb3f96\"},{\"type\":\"object\",\"name\":\"PanTool\",\"id\":\"6ea19bd5-9c78-46e4-a9c6-7aedad61b1a4\"},{\"type\":\"object\",\"name\":\"BoxZoomTool\",\"id\":\"4d2df6f4-26cf-4eae-8fa3-55fafeccab84\",\"attributes\":{\"overlay\":{\"type\":\"object\",\"name\":\"BoxAnnotation\",\"id\":\"f3ac3351-22ee-42df-b018-0e922d0f81e8\",\"attributes\":{\"syncable\":false,\"level\":\"overlay\",\"visible\":false,\"left_units\":\"canvas\",\"right_units\":\"canvas\",\"bottom_units\":\"canvas\",\"top_units\":\"canvas\",\"line_color\":\"black\",\"line_alpha\":1.0,\"line_width\":2,\"line_dash\":[4,4],\"fill_color\":\"lightgrey\",\"fill_alpha\":0.5}}}},{\"type\":\"object\",\"name\":\"ResetTool\",\"id\":\"6e6aabf4-0e53-43bf-8614-595daebf51cf\"},{\"type\":\"object\",\"name\":\"TapTool\",\"id\":\"57b20ddc-d2f7-44f4-868a-b06d00aa5d53\",\"attributes\":{\"renderers\":\"auto\"}}],\"active_drag\":{\"id\":\"6ea19bd5-9c78-46e4-a9c6-7aedad61b1a4\"},\"active_scroll\":{\"id\":\"12986c89-849d-42de-9b66-d9325fbd3311\"}}},\"left\":[{\"type\":\"object\",\"name\":\"LinearAxis\",\"id\":\"7efa5613-71ad-4e4d-8c99-610da6ca249e\",\"attributes\":{\"visible\":false,\"ticker\":{\"type\":\"object\",\"name\":\"BasicTicker\",\"id\":\"35a48187-5b0e-4b76-81bd-748c265a0c49\",\"attributes\":{\"mantissas\":[1,2,5]}},\"formatter\":{\"type\":\"object\",\"name\":\"BasicTickFormatter\",\"id\":\"2cc2a7a9-12c2-4860-bae2-5d3b4143d8ce\"},\"axis_label\":\"y\",\"major_label_policy\":{\"type\":\"object\",\"name\":\"AllLabels\",\"id\":\"afc636f5-1df2-4966-813c-e468a1a905a8\"}}}],\"below\":[{\"type\":\"object\",\"name\":\"LinearAxis\",\"id\":\"61b49680-305d-4fe7-8ec7-2690d054f5a6\",\"attributes\":{\"visible\":false,\"ticker\":{\"type\":\"object\",\"name\":\"BasicTicker\",\"id\":\"ac86729a-7855-43b3-b31d-c3e2482914d0\",\"attributes\":{\"mantissas\":[1,2,5]}},\"formatter\":{\"type\":\"object\",\"name\":\"BasicTickFormatter\",\"id\":\"ebaae149-a56f-41e2-b8f1-225d5724472e\"},\"axis_label\":\"x\",\"major_label_policy\":{\"type\":\"object\",\"name\":\"AllLabels\",\"id\":\"d666fa1b-50ef-45e2-babe-b557e97dcc2b\"}}}],\"center\":[{\"type\":\"object\",\"name\":\"Grid\",\"id\":\"27adbb71-e6c4-43a0-b7ea-78267b61358f\",\"attributes\":{\"axis\":{\"id\":\"61b49680-305d-4fe7-8ec7-2690d054f5a6\"},\"grid_line_color\":null}},{\"type\":\"object\",\"name\":\"Grid\",\"id\":\"1253014b-bcd0-42cd-8f3c-656c8aa0284d\",\"attributes\":{\"dimension\":1,\"axis\":{\"id\":\"7efa5613-71ad-4e4d-8c99-610da6ca249e\"},\"grid_line_color\":null}}],\"min_border_top\":10,\"min_border_bottom\":10,\"min_border_left\":10,\"min_border_right\":10,\"output_backend\":\"webgl\"}},{\"type\":\"object\",\"name\":\"Spacer\",\"id\":\"0b832e06-add0-41d2-b898-f978cf93509c\",\"attributes\":{\"name\":\"HSpacer12123\",\"stylesheets\":[\"\\n:host(.pn-loading.pn-arc):before, .pn-loading.pn-arc:before {\\n  background-image: url(\\\"data:image/svg+xml;base64,PHN2ZyB4bWxucz0iaHR0cDovL3d3dy53My5vcmcvMjAwMC9zdmciIHN0eWxlPSJtYXJnaW46IGF1dG87IGJhY2tncm91bmQ6IG5vbmU7IGRpc3BsYXk6IGJsb2NrOyBzaGFwZS1yZW5kZXJpbmc6IGF1dG87IiB2aWV3Qm94PSIwIDAgMTAwIDEwMCIgcHJlc2VydmVBc3BlY3RSYXRpbz0ieE1pZFlNaWQiPiAgPGNpcmNsZSBjeD0iNTAiIGN5PSI1MCIgZmlsbD0ibm9uZSIgc3Ryb2tlPSIjYzNjM2MzIiBzdHJva2Utd2lkdGg9IjEwIiByPSIzNSIgc3Ryb2tlLWRhc2hhcnJheT0iMTY0LjkzMzYxNDMxMzQ2NDE1IDU2Ljk3Nzg3MTQzNzgyMTM4Ij4gICAgPGFuaW1hdGVUcmFuc2Zvcm0gYXR0cmlidXRlTmFtZT0idHJhbnNmb3JtIiB0eXBlPSJyb3RhdGUiIHJlcGVhdENvdW50PSJpbmRlZmluaXRlIiBkdXI9IjFzIiB2YWx1ZXM9IjAgNTAgNTA7MzYwIDUwIDUwIiBrZXlUaW1lcz0iMDsxIj48L2FuaW1hdGVUcmFuc2Zvcm0+ICA8L2NpcmNsZT48L3N2Zz4=\\\");\\n  background-size: auto calc(min(50%, 400px));\\n}\",{\"id\":\"6d5f38dc-cddf-4508-80ef-0e2d8c23328e\"},{\"id\":\"25fa66b0-a744-4592-9c0f-4cc15febc2a5\"},{\"id\":\"b65d3515-5de5-419d-9dde-170e3b6e9bd8\"}],\"margin\":0,\"sizing_mode\":\"stretch_width\",\"align\":\"start\"}}]}}],\"defs\":[{\"type\":\"model\",\"name\":\"ReactiveHTML1\"},{\"type\":\"model\",\"name\":\"FlexBox1\",\"properties\":[{\"name\":\"align_content\",\"kind\":\"Any\",\"default\":\"flex-start\"},{\"name\":\"align_items\",\"kind\":\"Any\",\"default\":\"flex-start\"},{\"name\":\"flex_direction\",\"kind\":\"Any\",\"default\":\"row\"},{\"name\":\"flex_wrap\",\"kind\":\"Any\",\"default\":\"wrap\"},{\"name\":\"justify_content\",\"kind\":\"Any\",\"default\":\"flex-start\"}]},{\"type\":\"model\",\"name\":\"FloatPanel1\",\"properties\":[{\"name\":\"config\",\"kind\":\"Any\",\"default\":{\"type\":\"map\"}},{\"name\":\"contained\",\"kind\":\"Any\",\"default\":true},{\"name\":\"position\",\"kind\":\"Any\",\"default\":\"right-top\"},{\"name\":\"offsetx\",\"kind\":\"Any\",\"default\":null},{\"name\":\"offsety\",\"kind\":\"Any\",\"default\":null},{\"name\":\"theme\",\"kind\":\"Any\",\"default\":\"primary\"},{\"name\":\"status\",\"kind\":\"Any\",\"default\":\"normalized\"}]},{\"type\":\"model\",\"name\":\"GridStack1\",\"properties\":[{\"name\":\"mode\",\"kind\":\"Any\",\"default\":\"warn\"},{\"name\":\"ncols\",\"kind\":\"Any\",\"default\":null},{\"name\":\"nrows\",\"kind\":\"Any\",\"default\":null},{\"name\":\"allow_resize\",\"kind\":\"Any\",\"default\":true},{\"name\":\"allow_drag\",\"kind\":\"Any\",\"default\":true},{\"name\":\"state\",\"kind\":\"Any\",\"default\":[]}]},{\"type\":\"model\",\"name\":\"drag1\",\"properties\":[{\"name\":\"slider_width\",\"kind\":\"Any\",\"default\":5},{\"name\":\"slider_color\",\"kind\":\"Any\",\"default\":\"black\"},{\"name\":\"value\",\"kind\":\"Any\",\"default\":50}]},{\"type\":\"model\",\"name\":\"click1\",\"properties\":[{\"name\":\"terminal_output\",\"kind\":\"Any\",\"default\":\"\"},{\"name\":\"debug_name\",\"kind\":\"Any\",\"default\":\"\"},{\"name\":\"clears\",\"kind\":\"Any\",\"default\":0}]},{\"type\":\"model\",\"name\":\"FastWrapper1\",\"properties\":[{\"name\":\"object\",\"kind\":\"Any\",\"default\":null},{\"name\":\"style\",\"kind\":\"Any\",\"default\":null}]},{\"type\":\"model\",\"name\":\"NotificationAreaBase1\",\"properties\":[{\"name\":\"js_events\",\"kind\":\"Any\",\"default\":{\"type\":\"map\"}},{\"name\":\"position\",\"kind\":\"Any\",\"default\":\"bottom-right\"},{\"name\":\"_clear\",\"kind\":\"Any\",\"default\":0}]},{\"type\":\"model\",\"name\":\"NotificationArea1\",\"properties\":[{\"name\":\"js_events\",\"kind\":\"Any\",\"default\":{\"type\":\"map\"}},{\"name\":\"notifications\",\"kind\":\"Any\",\"default\":[]},{\"name\":\"position\",\"kind\":\"Any\",\"default\":\"bottom-right\"},{\"name\":\"_clear\",\"kind\":\"Any\",\"default\":0},{\"name\":\"types\",\"kind\":\"Any\",\"default\":[{\"type\":\"map\",\"entries\":[[\"type\",\"warning\"],[\"background\",\"#ffc107\"],[\"icon\",{\"type\":\"map\",\"entries\":[[\"className\",\"fas fa-exclamation-triangle\"],[\"tagName\",\"i\"],[\"color\",\"white\"]]}]]},{\"type\":\"map\",\"entries\":[[\"type\",\"info\"],[\"background\",\"#007bff\"],[\"icon\",{\"type\":\"map\",\"entries\":[[\"className\",\"fas fa-info-circle\"],[\"tagName\",\"i\"],[\"color\",\"white\"]]}]]}]}]},{\"type\":\"model\",\"name\":\"Notification\",\"properties\":[{\"name\":\"background\",\"kind\":\"Any\",\"default\":null},{\"name\":\"duration\",\"kind\":\"Any\",\"default\":3000},{\"name\":\"icon\",\"kind\":\"Any\",\"default\":null},{\"name\":\"message\",\"kind\":\"Any\",\"default\":\"\"},{\"name\":\"notification_type\",\"kind\":\"Any\",\"default\":null},{\"name\":\"_destroyed\",\"kind\":\"Any\",\"default\":false}]},{\"type\":\"model\",\"name\":\"TemplateActions1\",\"properties\":[{\"name\":\"open_modal\",\"kind\":\"Any\",\"default\":0},{\"name\":\"close_modal\",\"kind\":\"Any\",\"default\":0}]},{\"type\":\"model\",\"name\":\"BootstrapTemplateActions1\",\"properties\":[{\"name\":\"open_modal\",\"kind\":\"Any\",\"default\":0},{\"name\":\"close_modal\",\"kind\":\"Any\",\"default\":0}]},{\"type\":\"model\",\"name\":\"MaterialTemplateActions1\",\"properties\":[{\"name\":\"open_modal\",\"kind\":\"Any\",\"default\":0},{\"name\":\"close_modal\",\"kind\":\"Any\",\"default\":0}]}]}};\n",
       "  var render_items = [{\"docid\":\"da839ad6-868f-4fe7-bad9-978719618314\",\"roots\":{\"c4f22d6c-9381-4f7b-ba26-1bb22c41df5f\":\"c1202163-5107-476c-a590-f9d2bcd68e2d\"},\"root_ids\":[\"c4f22d6c-9381-4f7b-ba26-1bb22c41df5f\"]}];\n",
       "  var docs = Object.values(docs_json)\n",
       "  if (!docs) {\n",
       "    return\n",
       "  }\n",
       "  const py_version = docs[0].version.replace('rc', '-rc.').replace('.dev', '-dev.')\n",
       "  const is_dev = py_version.indexOf(\"+\") !== -1 || py_version.indexOf(\"-\") !== -1\n",
       "  function embed_document(root) {\n",
       "    var Bokeh = get_bokeh(root)\n",
       "    Bokeh.embed.embed_items_notebook(docs_json, render_items);\n",
       "    for (const render_item of render_items) {\n",
       "      for (const root_id of render_item.root_ids) {\n",
       "\tconst id_el = document.getElementById(root_id)\n",
       "\tif (id_el.children.length && (id_el.children[0].className === 'bk-root')) {\n",
       "\t  const root_el = id_el.children[0]\n",
       "\t  root_el.id = root_el.id + '-rendered'\n",
       "\t}\n",
       "      }\n",
       "    }\n",
       "  }\n",
       "  function get_bokeh(root) {\n",
       "    if (root.Bokeh === undefined) {\n",
       "      return null\n",
       "    } else if (root.Bokeh.version !== py_version && !is_dev) {\n",
       "      if (root.Bokeh.versions === undefined || !root.Bokeh.versions.has(py_version)) {\n",
       "\treturn null\n",
       "      }\n",
       "      return root.Bokeh.versions.get(py_version);\n",
       "    } else if (root.Bokeh.version === py_version) {\n",
       "      return root.Bokeh\n",
       "    }\n",
       "    return null\n",
       "  }\n",
       "  function is_loaded(root) {\n",
       "    var Bokeh = get_bokeh(root)\n",
       "    return (Bokeh != null && Bokeh.Panel !== undefined)\n",
       "  }\n",
       "  if (is_loaded(root)) {\n",
       "    embed_document(root);\n",
       "  } else {\n",
       "    var attempts = 0;\n",
       "    var timer = setInterval(function(root) {\n",
       "      if (is_loaded(root)) {\n",
       "        clearInterval(timer);\n",
       "        embed_document(root);\n",
       "      } else if (document.readyState == \"complete\") {\n",
       "        attempts++;\n",
       "        if (attempts > 200) {\n",
       "          clearInterval(timer);\n",
       "\t  var Bokeh = get_bokeh(root)\n",
       "\t  if (Bokeh == null || Bokeh.Panel == null) {\n",
       "            console.warn(\"Panel: ERROR: Unable to run Panel code because Bokeh or Panel library is missing\");\n",
       "\t  } else {\n",
       "\t    console.warn(\"Panel: WARNING: Attempting to render but not all required libraries could be resolved.\")\n",
       "\t    embed_document(root)\n",
       "\t  }\n",
       "        }\n",
       "      }\n",
       "    }, 25, root)\n",
       "  }\n",
       "})(window);</script>"
      ],
      "text/plain": [
       ":Graph   [start,end]"
      ]
     },
     "execution_count": 314,
     "metadata": {
      "application/vnd.holoviews_exec.v0+json": {
       "id": "c4f22d6c-9381-4f7b-ba26-1bb22c41df5f"
      }
     },
     "output_type": "execute_result"
    }
   ],
   "source": []
  },
  {
   "cell_type": "code",
   "execution_count": 315,
   "id": "4c1cf01d-2a7e-44d0-85fd-01476990defa",
   "metadata": {},
   "outputs": [
    {
     "name": "stdout",
     "output_type": "stream",
     "text": [
      "Launching server at http://localhost:55061\n"
     ]
    },
    {
     "data": {
      "text/plain": [
       "<panel.io.server.Server at 0x149af7af0>"
      ]
     },
     "execution_count": 315,
     "metadata": {},
     "output_type": "execute_result"
    }
   ],
   "source": [
    "# Create file selector widget\n",
    "file_selector = pn.widgets.Select(options=network_files, name='Select Network File')\n",
    "\n",
    "# Create centrality measure selector widget\n",
    "centrality_selector = pn.widgets.Select(options=['Degree', 'Betweenness', 'Closeness', 'PageRank', 'Eigenvector'], name='Node size: Centrality Measure')\n",
    "\n",
    "# Create community detection toggle\n",
    "community_toggle = pn.widgets.Select(options=['Community (inferred)', 'Gender', 'Program', 'Classroom'], name='Node coor: Centrality Measure')\n",
    "\n",
    "# Create panel app layout\n",
    "def update_app(file_path, centrality_measure, community_detection):\n",
    "    network_plot = visualize_network(file_path, centrality_measure, community_detection)\n",
    "    #stats_table = display_statistics(file_path)\n",
    "    return pn.Row(\n",
    "        pn.Column(file_selector, centrality_selector, community_toggle),\n",
    "        pn.Column(network_plot)\n",
    "    )\n",
    "\n",
    "app = pn.bind(update_app,\n",
    "        file_path=file_selector.param.value, \n",
    "        centrality_measure=centrality_selector.param.value, \n",
    "        community_detection=community_toggle.param.value)\n",
    "\n",
    "\n",
    "\n",
    "# Display the app\n",
    "layout = pn.Row(app)\n",
    "layout.servable()"
   ]
  },
  {
   "cell_type": "code",
   "execution_count": null,
   "id": "d8c7955f-fa86-44d8-815c-905a7fe60530",
   "metadata": {},
   "outputs": [],
   "source": [
    "visualize_network(\"diaries.graphml\", centrality_measure=\"Betweenness\", community_measure=\"Program\")"
   ]
  },
  {
   "cell_type": "code",
   "execution_count": 317,
   "id": "3c316488-1646-4bd8-91b7-bbf812a6b3dd",
   "metadata": {},
   "outputs": [
    {
     "name": "stdout",
     "output_type": "stream",
     "text": [
      "Successfully converted app.py to pyodide-worker target and wrote output to app.html.\n",
      "Successfully wrote icons and images.\n",
      "Successfully wrote site.manifest.\n",
      "Successfully wrote serviceWorker.js.\n"
     ]
    }
   ],
   "source": [
    "#!panel serve app.py \n",
    "\n",
    "# Converting the app we made into a PWA using pyodide (the server becomes our browser)\n",
    "!panel convert app.py --to pyodide-worker --out ./apps/app/ --pwa "
   ]
  },
  {
   "cell_type": "code",
   "execution_count": null,
   "id": "aa613fac-0da1-4991-aa63-f8136f499bda",
   "metadata": {},
   "outputs": [],
   "source": []
  },
  {
   "cell_type": "code",
   "execution_count": null,
   "id": "3dab975b-0c9d-45ea-8bc2-110ee6427bf9",
   "metadata": {},
   "outputs": [],
   "source": [
    "# You'll need to run an http server to see the app (but hey, github pages has it!)\n",
    "!python3 -m http.server"
   ]
  }
 ],
 "metadata": {
  "kernelspec": {
   "display_name": "Python [conda env:st]",
   "language": "python",
   "name": "conda-env-st-py"
  },
  "language_info": {
   "codemirror_mode": {
    "name": "ipython",
    "version": 3
   },
   "file_extension": ".py",
   "mimetype": "text/x-python",
   "name": "python",
   "nbconvert_exporter": "python",
   "pygments_lexer": "ipython3",
   "version": "3.10.12"
  }
 },
 "nbformat": 4,
 "nbformat_minor": 5
}
